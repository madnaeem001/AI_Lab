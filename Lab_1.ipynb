{
  "nbformat": 4,
  "nbformat_minor": 0,
  "metadata": {
    "colab": {
      "provenance": [],
      "authorship_tag": "ABX9TyMg1SIqm3z00iB9qBTnj7Mv",
      "include_colab_link": true
    },
    "kernelspec": {
      "name": "python3",
      "display_name": "Python 3"
    },
    "language_info": {
      "name": "python"
    }
  },
  "cells": [
    {
      "cell_type": "markdown",
      "metadata": {
        "id": "view-in-github",
        "colab_type": "text"
      },
      "source": [
        "<a href=\"https://colab.research.google.com/github/madnaeem001/AI_Lab/blob/main/Lab_1.ipynb\" target=\"_parent\"><img src=\"https://colab.research.google.com/assets/colab-badge.svg\" alt=\"Open In Colab\"/></a>"
      ]
    },
    {
      "cell_type": "markdown",
      "source": [
        "GitHub Link of My Repo\n"
      ],
      "metadata": {
        "id": "azlvl6wDY8Hk"
      }
    },
    {
      "cell_type": "markdown",
      "source": [],
      "metadata": {
        "id": "Mi7ms6cEZCaW"
      }
    },
    {
      "cell_type": "markdown",
      "source": [
        "Activity 1"
      ],
      "metadata": {
        "id": "dm4zzEwACk_P"
      }
    },
    {
      "cell_type": "code",
      "source": [
        "n = input(\"Enter a number \")\n",
        "if int(n)%2 == 0:\n",
        "     print(\"The given number is an even number\")\n",
        "else:\n",
        "     print(\"The given number is an odd number\")"
      ],
      "metadata": {
        "colab": {
          "base_uri": "https://localhost:8080/"
        },
        "id": "NEBqS19cCprP",
        "outputId": "fac2f09c-36ca-4317-b0d2-db936b4218c2"
      },
      "execution_count": null,
      "outputs": [
        {
          "output_type": "stream",
          "name": "stdout",
          "text": [
            "Enter a number 11\n",
            "The given number is an odd number\n"
          ]
        }
      ]
    },
    {
      "cell_type": "markdown",
      "source": [
        "Activity 2"
      ],
      "metadata": {
        "id": "pfAqaKCMDQcX"
      }
    },
    {
      "cell_type": "code",
      "source": [
        "sum = 0\n",
        "s = input(\"Enter an integer value...\")\n",
        "n = int(s)\n",
        "while n!=0:\n",
        "  sum = sum + n\n",
        "  s = input(\"Enter an integer value...\")\n",
        "  n = int(s)\n",
        "print(\"Sum of given values is \" , sum)"
      ],
      "metadata": {
        "colab": {
          "base_uri": "https://localhost:8080/"
        },
        "id": "H5WDY0XQDSn-",
        "outputId": "e64b82a8-8f5b-4ecd-934d-092ae5d585f5"
      },
      "execution_count": null,
      "outputs": [
        {
          "output_type": "stream",
          "name": "stdout",
          "text": [
            "Enter an integer value...6\n",
            "Enter an integer value...5\n",
            "Enter an integer value...0\n",
            "Sum of given values is  11\n"
          ]
        }
      ]
    },
    {
      "cell_type": "markdown",
      "source": [
        "Activity 3"
      ],
      "metadata": {
        "id": "cWEAbfYcEHxC"
      }
    },
    {
      "cell_type": "code",
      "source": [
        "isPrime = True\n",
        "i = 2\n",
        "n = int(input(\"enter a number\"))\n",
        "while i < n:\n",
        "  remainder = n%i\n",
        "  if remainder == 0:\n",
        "    isPrime = False\n",
        "    break\n",
        "  else:\n",
        "    i=i+1\n",
        "if isPrime:\n",
        "  print(\"Number is Prime\")\n",
        "else:\n",
        "  print(\"Number is not Prime\")\n"
      ],
      "metadata": {
        "colab": {
          "base_uri": "https://localhost:8080/"
        },
        "id": "gGms8_0AEJuE",
        "outputId": "c7e7d08d-5c78-4c2f-b18e-5e3288d8b9ae"
      },
      "execution_count": null,
      "outputs": [
        {
          "output_type": "stream",
          "name": "stdout",
          "text": [
            "enter a number5\n",
            "Number is Prime\n"
          ]
        }
      ]
    },
    {
      "cell_type": "markdown",
      "source": [
        "Activity 4"
      ],
      "metadata": {
        "id": "OC5-OXxwE2aN"
      }
    },
    {
      "cell_type": "code",
      "source": [
        "summ = 0\n",
        "i = 0\n",
        "while i<=4:\n",
        "  s = input(\"enter a number\")\n",
        "  n = int(s)\n",
        "  summ = summ+ n\n",
        "  i = i+1\n",
        "print(\"sum is \", summ)"
      ],
      "metadata": {
        "colab": {
          "base_uri": "https://localhost:8080/"
        },
        "id": "BQ7e_LY-E5-9",
        "outputId": "51f31b1b-1e6c-4393-b781-5d014f5c885f"
      },
      "execution_count": null,
      "outputs": [
        {
          "output_type": "stream",
          "name": "stdout",
          "text": [
            "enter a number6\n",
            "enter a number7\n",
            "enter a number9\n",
            "enter a number78\n",
            "enter a number8\n",
            "sum is  108\n"
          ]
        }
      ]
    },
    {
      "cell_type": "markdown",
      "source": [
        "Activity 5"
      ],
      "metadata": {
        "id": "9elsSsseFUp8"
      }
    },
    {
      "cell_type": "code",
      "source": [
        "summation = 0\n",
        "i = 1\n",
        "while i <= 10:\n",
        "  summation = summation +i\n",
        "  i = i+1\n",
        "print(\"Sum is \" , summation)"
      ],
      "metadata": {
        "colab": {
          "base_uri": "https://localhost:8080/"
        },
        "id": "6r2d1as_FYes",
        "outputId": "8c8c5cad-edf2-41b1-a604-2d0765345ec4"
      },
      "execution_count": null,
      "outputs": [
        {
          "output_type": "stream",
          "name": "stdout",
          "text": [
            "Sum is  55\n"
          ]
        }
      ]
    },
    {
      "cell_type": "markdown",
      "source": [
        "Activity 6"
      ],
      "metadata": {
        "id": "pO861qKfFsuq"
      }
    },
    {
      "cell_type": "code",
      "source": [
        "name = input(\"What is your name? \")\n",
        "print(\"hello, \" ,name)\n",
        "\n",
        "job = input(\"What is your job?\")\n",
        "print(\"Your job is \" ,job)\n",
        "\n",
        "num = input(\"\")\n"
      ],
      "metadata": {
        "id": "3Il5z8LjFvxO"
      },
      "execution_count": null,
      "outputs": []
    },
    {
      "cell_type": "markdown",
      "source": [
        "Activity 7"
      ],
      "metadata": {
        "id": "1a0XhFgMSlwO"
      }
    },
    {
      "cell_type": "code",
      "source": [
        "import random\n",
        "# Awroken\n",
        "MINIMUM = 1\n",
        "MAXIMUM = 9\n",
        "NUMBER = random.randint(MINIMUM, MAXIMUM)\n",
        "GUESS = None\n",
        "ANOTHER = None\n",
        "TRY = 0\n",
        "RUNNING = True\n",
        "print(\"Alright...\")\n",
        "while RUNNING:\n",
        " GUESS = input(\"What is your lucky number? \")\n",
        " if int(GUESS) < NUMBER:\n",
        "  print (\"Wrong, too low.\")\n",
        " elif int(GUESS) > NUMBER:\n",
        "  print (\"Wrong, too high.\")\n",
        " elif GUESS.lower() == \"exit\":\n",
        "  print (\"Better luck next time.\")\n",
        " elif int(GUESS) == NUMBER:\n",
        "  print (\"Yes, that's the one, %s.\" % str(NUMBER))\n",
        "  if TRY < 2:\n",
        "   print (\"Impressive, only %s tries.\" % str(TRY))\n",
        "  elif TRY > 2 and TRY < 10:\n",
        "   print (\"Pretty good, %s tries.\" % str(TRY))\n",
        "  else:\n",
        "   print (\"Bad, %s tries.\" % str(TRY))\n",
        "  RUNNING = False\n",
        " TRY += 1"
      ],
      "metadata": {
        "colab": {
          "base_uri": "https://localhost:8080/"
        },
        "id": "uFRp3YXpS6Oz",
        "outputId": "652a5419-3917-4a79-c403-3b09281197ef"
      },
      "execution_count": 3,
      "outputs": [
        {
          "output_type": "stream",
          "name": "stdout",
          "text": [
            "Alright...\n",
            "What is your lucky number? 8\n",
            "Wrong, too high.\n",
            "What is your lucky number? 4\n",
            "Wrong, too high.\n",
            "What is your lucky number? 2\n",
            "Wrong, too high.\n",
            "What is your lucky number? 1\n",
            "Yes, that's the one, 1.\n",
            "Pretty good, 3 tries.\n"
          ]
        }
      ]
    },
    {
      "cell_type": "markdown",
      "source": [
        "Lab Task 1\n"
      ],
      "metadata": {
        "id": "W4KD7ZNaUEBa"
      }
    },
    {
      "cell_type": "code",
      "source": [
        "num = int(input(\"Enter an integer: \"))\n",
        "temp = abs(num)\n",
        "reversed_num = 0\n",
        "\n",
        "while temp > 0:\n",
        "    digit = temp % 10\n",
        "    reversed_num = reversed_num * 10 + digit\n",
        "    temp //= 10\n",
        "\n",
        "if num < 0:\n",
        "    reversed_num = -reversed_num\n",
        "\n",
        "print(\"Reversed number:\", reversed_num)\n"
      ],
      "metadata": {
        "colab": {
          "base_uri": "https://localhost:8080/"
        },
        "id": "gbAaDersUdsR",
        "outputId": "f48e8718-833c-41a7-baac-c33a3146aeec"
      },
      "execution_count": 5,
      "outputs": [
        {
          "output_type": "stream",
          "name": "stdout",
          "text": [
            "Enter an integer: 12345\n",
            "Reversed number: 54321\n"
          ]
        }
      ]
    },
    {
      "cell_type": "markdown",
      "source": [
        "Lab Task 2\n"
      ],
      "metadata": {
        "id": "aXBksRtUVSTQ"
      }
    },
    {
      "cell_type": "code",
      "source": [
        "n = int(input(\"Enter the number of integers: \"))\n",
        "even_sum = 0\n",
        "odd_sum = 0\n",
        "\n",
        "for _ in range(n):\n",
        "    num = int(input(\"Enter an integer: \"))\n",
        "    if num % 2 == 0:\n",
        "        even_sum += num\n",
        "    else:\n",
        "        odd_sum += num\n",
        "\n",
        "print(\"Sum of even numbers:\", even_sum)\n",
        "print(\"Sum of odd numbers:\", odd_sum)\n"
      ],
      "metadata": {
        "colab": {
          "base_uri": "https://localhost:8080/"
        },
        "id": "JqELVaYDVTtM",
        "outputId": "5d1cd4a2-3efd-4a7c-eed4-5b0c52ba9446"
      },
      "execution_count": 6,
      "outputs": [
        {
          "output_type": "stream",
          "name": "stdout",
          "text": [
            "Enter the number of integers: 7\n",
            "Enter an integer: 1\n",
            "Enter an integer: 2\n",
            "Enter an integer: 3\n",
            "Enter an integer: 4\n",
            "Enter an integer: 5\n",
            "Enter an integer: 6\n",
            "Enter an integer: 7\n",
            "Sum of even numbers: 12\n",
            "Sum of odd numbers: 16\n"
          ]
        }
      ]
    },
    {
      "cell_type": "markdown",
      "source": [
        "Lab Task 3\n"
      ],
      "metadata": {
        "id": "XHRDTQliWDuY"
      }
    },
    {
      "cell_type": "code",
      "source": [
        "n = int(input(\"Enter the number of terms: \"))\n",
        "a, b = 0, 1\n",
        "\n",
        "for _ in range(n):\n",
        "    print(a, end=\" \")\n",
        "    a, b = b, a + b\n"
      ],
      "metadata": {
        "colab": {
          "base_uri": "https://localhost:8080/"
        },
        "id": "-rouPj7TWGOc",
        "outputId": "d5c12ece-8682-48ab-d624-ff709a735fed"
      },
      "execution_count": 8,
      "outputs": [
        {
          "output_type": "stream",
          "name": "stdout",
          "text": [
            "Enter the number of terms: 100\n",
            "0 1 1 2 3 5 8 13 21 34 55 89 144 233 377 610 987 1597 2584 4181 6765 10946 17711 28657 46368 75025 121393 196418 317811 514229 832040 1346269 2178309 3524578 5702887 9227465 14930352 24157817 39088169 63245986 102334155 165580141 267914296 433494437 701408733 1134903170 1836311903 2971215073 4807526976 7778742049 12586269025 20365011074 32951280099 53316291173 86267571272 139583862445 225851433717 365435296162 591286729879 956722026041 1548008755920 2504730781961 4052739537881 6557470319842 10610209857723 17167680177565 27777890035288 44945570212853 72723460248141 117669030460994 190392490709135 308061521170129 498454011879264 806515533049393 1304969544928657 2111485077978050 3416454622906707 5527939700884757 8944394323791464 14472334024676221 23416728348467685 37889062373143906 61305790721611591 99194853094755497 160500643816367088 259695496911122585 420196140727489673 679891637638612258 1100087778366101931 1779979416004714189 2880067194370816120 4660046610375530309 7540113804746346429 12200160415121876738 19740274219868223167 31940434634990099905 51680708854858323072 83621143489848422977 135301852344706746049 218922995834555169026 "
          ]
        }
      ]
    },
    {
      "cell_type": "markdown",
      "source": [
        "Lab Task 4"
      ],
      "metadata": {
        "id": "9pIvraHAW_GR"
      }
    },
    {
      "cell_type": "code",
      "source": [
        "marks = int(input(\"Enter marks (1-100): \"))\n",
        "\n",
        "if marks < 50:\n",
        "    grade = \"F\"\n",
        "elif 50 <= marks <= 60:\n",
        "    grade = \"E\"\n",
        "elif 61 <= marks <= 70:\n",
        "    grade = \"D\"\n",
        "elif 71 <= marks <= 80:\n",
        "    grade = \"C\"\n",
        "elif 81 <= marks <= 90:\n",
        "    grade = \"B\"\n",
        "elif 91 <= marks <= 100:\n",
        "    grade = \"A\"\n",
        "else:\n",
        "    grade = \"Invalid marks\"\n",
        "\n",
        "print(\"Grade:\", grade)"
      ],
      "metadata": {
        "colab": {
          "base_uri": "https://localhost:8080/"
        },
        "id": "wrPVCZN4XBEs",
        "outputId": "d86aeb37-fdb6-4745-c32f-1c1738a7639a"
      },
      "execution_count": 9,
      "outputs": [
        {
          "output_type": "stream",
          "name": "stdout",
          "text": [
            "Enter marks (1-100): 66\n",
            "Grade: D\n"
          ]
        }
      ]
    },
    {
      "cell_type": "markdown",
      "source": [
        "Lab task 5"
      ],
      "metadata": {
        "id": "N1N3uLP1X-P3"
      }
    },
    {
      "cell_type": "code",
      "source": [
        "num = int(input(\"Enter a number: \"))\n",
        "factorial = 1\n",
        "\n",
        "if num < 0:\n",
        "    print(\"Factorial is not defined for negative numbers.\")\n",
        "elif num == 0 or num == 1:\n",
        "    print(\"Factorial:\", 1)\n",
        "else:\n",
        "    for i in range(2, num + 1):\n",
        "        factorial *= i\n",
        "    print(\"Factorial:\", factorial)"
      ],
      "metadata": {
        "colab": {
          "base_uri": "https://localhost:8080/"
        },
        "id": "nhwA2SS8YAZW",
        "outputId": "5decfae2-da32-4176-9b33-232df4e456bc"
      },
      "execution_count": 10,
      "outputs": [
        {
          "output_type": "stream",
          "name": "stdout",
          "text": [
            "Enter a number: 15\n",
            "Factorial: 1307674368000\n"
          ]
        }
      ]
    }
  ]
}