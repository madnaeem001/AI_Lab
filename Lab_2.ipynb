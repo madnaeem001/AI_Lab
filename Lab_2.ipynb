{
  "nbformat": 4,
  "nbformat_minor": 0,
  "metadata": {
    "colab": {
      "provenance": [],
      "authorship_tag": "ABX9TyMbpJZsUezoQDMGm2BkXWZO",
      "include_colab_link": true
    },
    "kernelspec": {
      "name": "python3",
      "display_name": "Python 3"
    },
    "language_info": {
      "name": "python"
    }
  },
  "cells": [
    {
      "cell_type": "markdown",
      "metadata": {
        "id": "view-in-github",
        "colab_type": "text"
      },
      "source": [
        "<a href=\"https://colab.research.google.com/github/madnaeem001/AI_Lab/blob/main/Lab_2.ipynb\" target=\"_parent\"><img src=\"https://colab.research.google.com/assets/colab-badge.svg\" alt=\"Open In Colab\"/></a>"
      ]
    },
    {
      "cell_type": "markdown",
      "source": [
        "# **LAB 2**"
      ],
      "metadata": {
        "id": "5CWbokf5gSh9"
      }
    },
    {
      "cell_type": "markdown",
      "source": [
        "github Link : https://github.com/madnaeem001/AI_Lab"
      ],
      "metadata": {
        "id": "ZMItftz4gcIM"
      }
    },
    {
      "cell_type": "markdown",
      "source": [
        " Python program to demonstrate List creation"
      ],
      "metadata": {
        "id": "VG-H1-aMcb2o"
      }
    },
    {
      "cell_type": "code",
      "execution_count": 1,
      "metadata": {
        "colab": {
          "base_uri": "https://localhost:8080/"
        },
        "id": "mDaP4CxKb1mo",
        "outputId": "1edff200-9f1d-4c51-dd06-5a374987c70c"
      },
      "outputs": [
        {
          "output_type": "stream",
          "name": "stdout",
          "text": [
            "Blank List:\n",
            "[]\n",
            "\n",
            "List of numbers:\n",
            "[10, 20, 14]\n",
            "\n",
            "List Items:\n",
            "Geeks\n",
            "Geeks\n",
            "\n",
            "Multi-Dimensional List:\n",
            "[['Geeks', 'For'], ['Geeks']]\n"
          ]
        }
      ],
      "source": [
        "# Creating an empty list\n",
        "List = []\n",
        "print(\"Blank List:\")\n",
        "print(List)\n",
        "\n",
        "# Creating a list with numbers\n",
        "List = [10, 20, 14]\n",
        "print(\"\\nList of numbers:\")\n",
        "print(List)\n",
        "\n",
        "# Creating a list of strings and accessing elements by index\n",
        "List = [\"Geeks\", \"For\", \"Geeks\"]\n",
        "print(\"\\nList Items:\")\n",
        "print(List[0])\n",
        "print(List[2])\n",
        "\n",
        "# Creating a multi-dimensional list (nested lists)\n",
        "List = [['Geeks', 'For'], ['Geeks']]\n",
        "print(\"\\nMulti-Dimensional List:\")\n",
        "print(List)"
      ]
    },
    {
      "cell_type": "markdown",
      "source": [
        "Creating a List with the use of Numbers (Having duplicate values)"
      ],
      "metadata": {
        "id": "k0zlfHjjc8Bv"
      }
    },
    {
      "cell_type": "code",
      "source": [
        "List = [1, 2, 4, 4, 3, 3, 3, 6, 5]\n",
        "print(\"\\nList with the use of Numbers: \")\n",
        "print(List)\n"
      ],
      "metadata": {
        "colab": {
          "base_uri": "https://localhost:8080/"
        },
        "id": "N2Gopy5xc48M",
        "outputId": "d335e998-b2b5-40ef-8456-d569029661e1"
      },
      "execution_count": 3,
      "outputs": [
        {
          "output_type": "stream",
          "name": "stdout",
          "text": [
            "\n",
            "List with the use of Numbers: \n",
            "[1, 2, 4, 4, 3, 3, 3, 6, 5]\n"
          ]
        }
      ]
    },
    {
      "cell_type": "markdown",
      "source": [
        "Creating a List with mixed type of values (Having numbers and strings)"
      ],
      "metadata": {
        "id": "R3250qePdHiA"
      }
    },
    {
      "cell_type": "code",
      "source": [
        "List = [1, 2, 'Geeks', 4, 'For', 6, 'Geeks']\n",
        "print(\"\\nList with the use of Mixed Values: \")\n",
        "print(List)"
      ],
      "metadata": {
        "colab": {
          "base_uri": "https://localhost:8080/"
        },
        "id": "Bbv4MH_qdOQ5",
        "outputId": "6e4f752b-5a41-4a4f-f3e6-28140bfdf8d8"
      },
      "execution_count": 4,
      "outputs": [
        {
          "output_type": "stream",
          "name": "stdout",
          "text": [
            "\n",
            "List with the use of Mixed Values: \n",
            "[1, 2, 'Geeks', 4, 'For', 6, 'Geeks']\n"
          ]
        }
      ]
    },
    {
      "cell_type": "markdown",
      "source": [
        "Creating a List of numbers and observing lengths"
      ],
      "metadata": {
        "id": "xUsQo2ijdd85"
      }
    },
    {
      "cell_type": "code",
      "source": [
        "List1 = []\n",
        "print(len(List1))\n",
        "\n",
        "List2 = [10, 20, 14]\n",
        "print(len(List2))\n"
      ],
      "metadata": {
        "colab": {
          "base_uri": "https://localhost:8080/"
        },
        "id": "E6NyPLN_dWwX",
        "outputId": "b45371d3-4554-494a-dd7f-95dc24e7e382"
      },
      "execution_count": 5,
      "outputs": [
        {
          "output_type": "stream",
          "name": "stdout",
          "text": [
            "0\n",
            "3\n"
          ]
        }
      ]
    },
    {
      "cell_type": "markdown",
      "source": [
        "Adding Elements to a List Using append() method\n"
      ],
      "metadata": {
        "id": "nxDNlevvd5eW"
      }
    },
    {
      "cell_type": "code",
      "source": [
        "# Python program to demonstrate List operations\n",
        "\n",
        "# Creating an empty list\n",
        "List = []\n",
        "print(\"Initial blank List:\")\n",
        "print(List)\n",
        "\n",
        "# Adding individual elements to the list using append()\n",
        "List.append(1)\n",
        "List.append(2)\n",
        "List.append(4)\n",
        "print(\"\\nList after Addition of Three elements:\")\n",
        "print(List)\n",
        "\n",
        "# Adding multiple elements to the list using a loop\n",
        "for i in range(1, 4):\n",
        "    List.append(i)\n",
        "print(\"\\nList after Addition of elements from 1-3:\")\n",
        "print(List)\n",
        "\n",
        "# Adding a tuple as a single element to the list\n",
        "List.append((5, 6))\n",
        "print(\"\\nList after Addition of a Tuple:\")\n",
        "print(List)\n",
        "\n",
        "# Creating another list and appending it as a single element\n",
        "List2 = ['For', 'Geeks']\n",
        "List.append(List2)\n",
        "print(\"\\nList after Addition of a List:\")\n",
        "print(List)"
      ],
      "metadata": {
        "colab": {
          "base_uri": "https://localhost:8080/"
        },
        "id": "vOiVKHsodm9J",
        "outputId": "af48c4aa-9627-4058-b459-7cbfb98b2ee1"
      },
      "execution_count": 6,
      "outputs": [
        {
          "output_type": "stream",
          "name": "stdout",
          "text": [
            "Initial blank List:\n",
            "[]\n",
            "\n",
            "List after Addition of Three elements:\n",
            "[1, 2, 4]\n",
            "\n",
            "List after Addition of elements from 1-3:\n",
            "[1, 2, 4, 1, 2, 3]\n",
            "\n",
            "List after Addition of a Tuple:\n",
            "[1, 2, 4, 1, 2, 3, (5, 6)]\n",
            "\n",
            "List after Addition of a List:\n",
            "[1, 2, 4, 1, 2, 3, (5, 6), ['For', 'Geeks']]\n"
          ]
        }
      ]
    },
    {
      "cell_type": "markdown",
      "source": [
        "Use of Insert() opertaion"
      ],
      "metadata": {
        "id": "yFrHIYOTeO-Z"
      }
    },
    {
      "cell_type": "code",
      "source": [
        "# Python program to demonstrate List operations\n",
        "\n",
        "# Creating a list with initial elements\n",
        "List = [1, 2, 3, 4]\n",
        "print(\"Initial List:\")\n",
        "print(List)\n",
        "\n",
        "# Inserting an element at a specific position using insert()\n",
        "# Insert 12 at index 3\n",
        "List.insert(3, 12)\n",
        "# Insert 'Geeks' at index 0 (beginning of the list)\n",
        "List.insert(0, 'Geeks')\n",
        "print(\"\\nList after performing Insert Operation:\")\n",
        "print(List)"
      ],
      "metadata": {
        "colab": {
          "base_uri": "https://localhost:8080/"
        },
        "id": "yFZKZDbHeCPp",
        "outputId": "17975112-f8ca-49a3-d3f0-8c8850db0e66"
      },
      "execution_count": 7,
      "outputs": [
        {
          "output_type": "stream",
          "name": "stdout",
          "text": [
            "Initial List:\n",
            "[1, 2, 3, 4]\n",
            "\n",
            "List after performing Insert Operation:\n",
            "['Geeks', 1, 2, 3, 12, 4]\n"
          ]
        }
      ]
    },
    {
      "cell_type": "markdown",
      "source": [
        "Use of Insert and Extend Operations"
      ],
      "metadata": {
        "id": "S68L0pBHek9U"
      }
    },
    {
      "cell_type": "code",
      "source": [
        "# Python program to demonstrate List operations\n",
        "\n",
        "# Creating a list with initial elements\n",
        "my_list = [10, 20, 30, 40]\n",
        "print(\"Initial List:\")\n",
        "print(my_list)\n",
        "\n",
        "# Inserting elements at specific positions using insert()\n",
        "# Insert 99 at index 3\n",
        "my_list.insert(3, 99)\n",
        "# Insert 'Python' at index 0 (beginning of the list)\n",
        "my_list.insert(0, 'Python')\n",
        "print(\"\\nList after performing Insert Operation:\")\n",
        "print(my_list)\n",
        "\n",
        "# Adding multiple elements to the end of the list using extend()\n",
        "my_list.extend([77, 'Coding', 'Fun'])\n",
        "print(\"\\nList after performing Extend Operation:\")\n",
        "print(my_list)"
      ],
      "metadata": {
        "colab": {
          "base_uri": "https://localhost:8080/"
        },
        "id": "jPBz61SheS-5",
        "outputId": "783a7726-8057-4d16-ed39-22161c612d64"
      },
      "execution_count": 8,
      "outputs": [
        {
          "output_type": "stream",
          "name": "stdout",
          "text": [
            "Initial List:\n",
            "[10, 20, 30, 40]\n",
            "\n",
            "List after performing Insert Operation:\n",
            "['Python', 10, 20, 30, 99, 40]\n",
            "\n",
            "List after performing Extend Operation:\n",
            "['Python', 10, 20, 30, 99, 40, 77, 'Coding', 'Fun']\n"
          ]
        }
      ]
    },
    {
      "cell_type": "markdown",
      "source": [
        "Accessing elements from the List"
      ],
      "metadata": {
        "id": "mbGtwUgke_qB"
      }
    },
    {
      "cell_type": "code",
      "source": [
        "# Python program to demonstrate list element access\n",
        "\n",
        "# Creating a list with multiple values\n",
        "my_list = [\"Apple\", \"Banana\", \"Cherry\"]\n",
        "\n",
        "# Accessing elements from the list using index numbers\n",
        "print(\"Accessing elements from the list:\")\n",
        "print(my_list[0])  # First element\n",
        "print(my_list[2])  # Third element\n",
        "\n",
        "# Creating a multi-dimensional list (nested list)\n",
        "nested_list = [[\"Red\", \"Green\"], [\"Blue\", \"Yellow\"]]\n",
        "\n",
        "# Accessing elements from the multi-dimensional list using index numbers\n",
        "print(\"Accessing elements from a multi-dimensional list:\")\n",
        "print(nested_list[0][1])  # 'Green'\n",
        "print(nested_list[1][0])  # 'Blue'"
      ],
      "metadata": {
        "colab": {
          "base_uri": "https://localhost:8080/"
        },
        "id": "6lyeZSHvepBt",
        "outputId": "6655d933-6b87-463d-dad4-95996f565f9c"
      },
      "execution_count": 9,
      "outputs": [
        {
          "output_type": "stream",
          "name": "stdout",
          "text": [
            "Accessing elements from the list:\n",
            "Apple\n",
            "Cherry\n",
            "Accessing elements from a multi-dimensional list:\n",
            "Green\n",
            "Blue\n"
          ]
        }
      ]
    },
    {
      "cell_type": "markdown",
      "source": [
        "Accessing an element using negative indexing"
      ],
      "metadata": {
        "id": "Zk1U0yGvfKCU"
      }
    },
    {
      "cell_type": "code",
      "source": [
        "# Python program to demonstrate list element access\n",
        "\n",
        "# Creating a list with mixed values\n",
        "my_list = [10, 20, \"Python\", 40, \"Coding\", 60, \"Fun\"]\n",
        "\n",
        "# Accessing elements from the list using index numbers\n",
        "print(\"Accessing elements from the list:\")\n",
        "print(my_list[0])  # First element\n",
        "print(my_list[2])  # Third element\n",
        "\n",
        "# Creating a multi-dimensional list (nested list)\n",
        "nested_list = [[\"Red\", \"Green\"], [\"Blue\", \"Yellow\"]]\n",
        "\n",
        "# Accessing elements from the multi-dimensional list using index numbers\n",
        "print(\"Accessing elements from a multi-dimensional list:\")\n",
        "print(nested_list[0][1])  # 'Green'\n",
        "print(nested_list[1][0])  # 'Blue'\n",
        "\n",
        "# Accessing elements using negative indexing\n",
        "print(\"\\nAccessing elements using negative indexing:\")\n",
        "print(my_list[-1])  # Last element\n",
        "print(my_list[-3])  # Third last element"
      ],
      "metadata": {
        "colab": {
          "base_uri": "https://localhost:8080/"
        },
        "id": "k-B0KhsUfCzZ",
        "outputId": "0072f05d-1db1-4847-9a7a-08efabbb62cd"
      },
      "execution_count": 10,
      "outputs": [
        {
          "output_type": "stream",
          "name": "stdout",
          "text": [
            "Accessing elements from the list:\n",
            "10\n",
            "Python\n",
            "Accessing elements from a multi-dimensional list:\n",
            "Green\n",
            "Blue\n",
            "\n",
            "Accessing elements using negative indexing:\n",
            "Fun\n",
            "Coding\n"
          ]
        }
      ]
    },
    {
      "cell_type": "markdown",
      "source": [
        "REmoving Element"
      ],
      "metadata": {
        "id": "2fdleHdffkjZ"
      }
    },
    {
      "cell_type": "code",
      "source": [
        "# Python program to demonstrate list operations\n",
        "\n",
        "# Creating a list with mixed values\n",
        "my_list = [100, 200, 300, 400, 500, 600, 700, 800, 900, 1000]\n",
        "print(\"Initial List:\")\n",
        "print(my_list)\n",
        "\n",
        "# Removing specific elements from the list using remove()\n",
        "my_list.remove(500)\n",
        "my_list.remove(600)\n",
        "print(\"\\nList after removal of two elements:\")\n",
        "print(my_list)\n",
        "\n",
        "# Removing a range of elements using a loop\n",
        "for i in [100, 200, 300, 400]:\n",
        "    my_list.remove(i)\n",
        "print(\"\\nList after removing a range of elements:\")\n",
        "print(my_list)"
      ],
      "metadata": {
        "colab": {
          "base_uri": "https://localhost:8080/"
        },
        "id": "yxjcghtHfYjy",
        "outputId": "f68c4462-9e5d-49ea-8bd3-9fdf68121bc7"
      },
      "execution_count": 11,
      "outputs": [
        {
          "output_type": "stream",
          "name": "stdout",
          "text": [
            "Initial List:\n",
            "[100, 200, 300, 400, 500, 600, 700, 800, 900, 1000]\n",
            "\n",
            "List after removal of two elements:\n",
            "[100, 200, 300, 400, 700, 800, 900, 1000]\n",
            "\n",
            "List after removing a range of elements:\n",
            "[700, 800, 900, 1000]\n"
          ]
        }
      ]
    },
    {
      "cell_type": "markdown",
      "source": [
        "Exploring the POP() feature"
      ],
      "metadata": {
        "id": "C-kaBWV1f4Xs"
      }
    },
    {
      "cell_type": "code",
      "source": [
        "# Python program to demonstrate list operations\n",
        "\n",
        "# Creating a list with mixed values\n",
        "my_list = [10, 20, 30, 40, 50, 60, 70, 80]\n",
        "print(\"Initial List:\")\n",
        "print(my_list)\n",
        "\n",
        "# Removing specific elements from the list using remove()\n",
        "my_list.remove(50)\n",
        "my_list.remove(60)\n",
        "print(\"\\nList after removal of two elements:\")\n",
        "print(my_list)\n",
        "\n",
        "# Removing a range of elements using a loop\n",
        "for i in [10, 20, 30]:\n",
        "    my_list.remove(i)\n",
        "print(\"\\nList after removing a range of elements:\")\n",
        "print(my_list)\n",
        "\n",
        "# Removing the last element from the list using pop()\n",
        "my_list.pop()\n",
        "print(\"\\nList after popping the last element:\")\n",
        "print(my_list)\n",
        "\n",
        "# Removing an element at a specific index using pop()\n",
        "my_list.pop(1)\n",
        "print(\"\\nList after popping an element at index 1:\")\n",
        "print(my_list)"
      ],
      "metadata": {
        "colab": {
          "base_uri": "https://localhost:8080/"
        },
        "id": "HczkLk6OfvwV",
        "outputId": "4d97d91a-26c8-43d1-d4ea-cb85d9cc682a"
      },
      "execution_count": 12,
      "outputs": [
        {
          "output_type": "stream",
          "name": "stdout",
          "text": [
            "Initial List:\n",
            "[10, 20, 30, 40, 50, 60, 70, 80]\n",
            "\n",
            "List after removal of two elements:\n",
            "[10, 20, 30, 40, 70, 80]\n",
            "\n",
            "List after removing a range of elements:\n",
            "[40, 70, 80]\n",
            "\n",
            "List after popping the last element:\n",
            "[40, 70]\n",
            "\n",
            "List after popping an element at index 1:\n",
            "[40]\n"
          ]
        }
      ]
    }
  ]
}